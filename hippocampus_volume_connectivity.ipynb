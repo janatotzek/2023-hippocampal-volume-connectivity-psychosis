{
 "cells": [
  {
   "cell_type": "markdown",
   "id": "31f7f89c",
   "metadata": {},
   "source": [
    "# __Longitudinal Inference of Hippocampal Volume and Morphometric Hippocampal-Cortical Connectivity__\n",
    "### Totzek, J. F., Chakravarty, M. M., Joober, R., Malla, A., Shah, J., Young, A. L., Lepage, M. & Lavigne, K. M. (_in preparation_)"
   ]
  },
  {
   "cell_type": "markdown",
   "id": "ad84609f",
   "metadata": {},
   "source": [
    "This notebook describes the processing steps that were performed for the z-score Subtype and Stage Inference (z-score SuStaIn, [Young et al. (2018)](https://doi.org/10.1038/s41467-018-05892-0\n",
    ")) analysis of the article \"Longitudinal Inference of Hippocampal Volume and Morphometric Hippocampal-Cortical Connectivity\" (Totzek et al., in preparation). Analyses were performed by the means of pySuStaIn [Aksman et al. (2021)](https://doi.org/10.1016/j.softx.2021.100811).\n",
    "\n",
    "The notebook was replicated from the open-source SuStaIn workshop on GitHub: [pySuStaIn Workshop](https://github.com/ucl-pond/pySuStaIn/blob/master/notebooks/SuStaInWorkshop.ipynb\n",
    ") and adapted to the variables of our dataset. The link to the overall pySuStaIn GitHub repository can be found [here](https://github.com/ucl-pond/pySuStaIn). "
   ]
  },
  {
   "cell_type": "code",
   "execution_count": 29,
   "id": "c585f7ba",
   "metadata": {},
   "outputs": [],
   "source": [
    "# Load libraries\n",
    "\n",
    "import os\n",
    "import pandas \n",
    "import numpy as np\n",
    "import matplotlib.pyplot as plt\n",
    "import seaborn as sns\n",
    "import pySuStaIn\n",
    "import statsmodels.formula.api as smf\n",
    "from scipy import stats\n",
    "import sklearn.model_selection"
   ]
  },
  {
   "cell_type": "markdown",
   "id": "7df4789a",
   "metadata": {},
   "source": [
    "The input .csv frame has the dimensions 292 (participants) x 11 (variables). \n",
    "\n",
    "The 13 variables include: \n",
    "- subject ID\n",
    "- group\n",
    "- age\n",
    "- sex\n",
    "- total brain volume (TBV)\n",
    "- subfield volume (left hemisphere)\n",
    "- subfield volume (right hemisphere)\n",
    "- white matter volume (left hemisphere)\n",
    "- white matter volume (right hemisphere)\n",
    "- subfield connectivity (left hemisphere)\n",
    "- subfield connectivity (right hemisphere)\n",
    "- white matter connectivity (left hemisphere)\n",
    "- white matter connectivity (right hemisphere)\n",
    "\n",
    "The variables of bilateral subfield volume, bilateral white matter volume, bilateral subfield connectivity and bilateral white matter connectivity are the 8 biomarkers on which we performed z-score SuStaIn. We further controlled for age, sex, and TBV."
   ]
  },
  {
   "cell_type": "code",
   "execution_count": null,
   "id": "39837fb5",
   "metadata": {},
   "outputs": [],
   "source": [
    "np.random.seed(0)\n",
    "data = pandas.read_csv('/Users/jana/Documents/2023-hippocampal-volume-connectivity/hippocampal_input.csv')\n",
    "data.Group.value_counts()"
   ]
  },
  {
   "cell_type": "code",
   "execution_count": null,
   "id": "6a61888a",
   "metadata": {},
   "outputs": [],
   "source": [
    "#store biomarkers labels as variables\n",
    "\n",
    "biomarkers = data.columns[6:]\n",
    "print(biomarkers)"
   ]
  },
  {
   "cell_type": "code",
   "execution_count": null,
   "id": "a3c1c6cb",
   "metadata": {},
   "outputs": [],
   "source": [
    "# first a quick look at the patient and control distribution for one of our biomarkers\n",
    "\n",
    "biomarker = biomarkers[0]\n",
    "sns.displot(data=data, # our dataframe\n",
    "            x=biomarker, # name of the the distribution we want to plot\n",
    "            hue='Group', # the \"grouping\" variable\n",
    "            kind='kde') # kind can also be 'hist' or 'ecdf'\n",
    "plt.title(biomarker)\n",
    "plt.show()"
   ]
  },
  {
   "cell_type": "code",
   "execution_count": null,
   "id": "bfc8156e",
   "metadata": {},
   "outputs": [],
   "source": [
    "# now we perform the normalization\n",
    "\n",
    "# make a copy of our dataframe (we don't want to overwrite our original data)\n",
    "zdata = pandas.DataFrame(data,copy=True)\n",
    "\n",
    "# for each biomarker\n",
    "for biomarker in biomarkers:\n",
    "    mod = smf.ols('%s ~ Age + Sex + TBV'%biomarker,  # fit a model finding the effect of age and sex on biomarker\n",
    "                  data=data[data.Group==4] # fit this model *only* to individuals in the control group\n",
    "                 ).fit() # fit model    \n",
    "    #print(mod.summary())\n",
    "    \n",
    "    # get the \"predicted\" values for all subjects based on the control model parameters\n",
    "    predicted = mod.predict(data[['Age','Sex', 'TBV',biomarker]]) \n",
    "    \n",
    "    # calculate our zscore: observed - predicted / SD of the control group residuals\n",
    "    w_score = (data.loc[:,biomarker] - predicted) / mod.resid.std()\n",
    "    \n",
    "    \n",
    "    # save zscore back into our new (copied) dataframe\n",
    "    zdata.loc[:,biomarker] = w_score"
   ]
  },
  {
   "cell_type": "code",
   "execution_count": 35,
   "id": "3c3280f3",
   "metadata": {},
   "outputs": [],
   "source": [
    "zdata_patients = zdata[zdata.Group==1]\n",
    "zdata_controls = zdata[zdata.Group==4]"
   ]
  },
  {
   "cell_type": "code",
   "execution_count": null,
   "id": "80feea66",
   "metadata": {},
   "outputs": [],
   "source": [
    "IS_decreasing = np.mean(zdata,axis=0)<np.mean(zdata_controls,axis=0)\n",
    "IS_decreasing"
   ]
  },
  {
   "cell_type": "markdown",
   "id": "fdaed4c3",
   "metadata": {},
   "source": [
    "For the analyses, all biomarker values need to increase with disease progression. We therefore need to identify those who do not, which will have mean_data < mean_control. \n",
    "Those biomarkers then need to be multiplied by -1 (see [pySuStaIn Simulated Data](https://github.com/ucl-pond/pySuStaIn/blob/master/notebooks/SuStaIn%20tutorial%20using%20simulated%20data.ipynb))."
   ]
  },
  {
   "cell_type": "code",
   "execution_count": 37,
   "id": "85a848d8",
   "metadata": {},
   "outputs": [],
   "source": [
    "#\"Identify any biomarkers that decrease with disease progression, these will have mean_data < mean_control. \n",
    "#Multiply the data for these biomarkers by -1.\"\n",
    "\n",
    "zdata.L_Subfields_Vol *= -1\n",
    "zdata.R_Subfields_Vol *= -1\n",
    "zdata.L_WM_Vol *= -1\n",
    "zdata.L_Subfields_Conn *= -1\n",
    "zdata.R_Subfields_Conn *= -1\n",
    "zdata.L_WM_Conn*= -1"
   ]
  },
  {
   "cell_type": "code",
   "execution_count": null,
   "id": "1ba2ed77",
   "metadata": {},
   "outputs": [],
   "source": [
    "# Check that the mean of the control population is 0\n",
    "print('Mean of controls is ',np.mean(zdata[zdata.Group==4],axis=0))\n",
    "# Check that the standard deviation of the control population is 1\n",
    "print('Standard deviation of controls is ',np.std(zdata[zdata.Group==4],axis=0))\n",
    "# Check that the mean of the whole dataset is positive\n",
    "print('Mean of whole dataset is ',np.mean(zdata,axis=0))\n",
    "# Check that the standard deviation of the whole dataset is greater than 1\n",
    "print('Standard deviation of whole dataset is ',np.std(zdata,axis=0))"
   ]
  },
  {
   "cell_type": "code",
   "execution_count": null,
   "id": "230417f3",
   "metadata": {},
   "outputs": [],
   "source": [
    "biomarker = biomarkers[0]\n",
    "sns.displot(data=zdata,x=biomarker,hue='Group',kind='kde')\n",
    "plt.title(biomarker)\n",
    "plt.axvline(0,ls='--',c='black') # the 0 line *should* be the mean of the control distribution\n",
    "plt.show()"
   ]
  },
  {
   "cell_type": "code",
   "execution_count": null,
   "id": "fda64818",
   "metadata": {},
   "outputs": [],
   "source": [
    "biomarker = biomarkers[1]\n",
    "sns.displot(data=zdata,x=biomarker,hue='Group',kind='kde')\n",
    "plt.title(biomarker)\n",
    "plt.axvline(0,ls='--',c='black') # the 0 line *should* be the mean of the control distribution\n",
    "plt.show()"
   ]
  },
  {
   "cell_type": "code",
   "execution_count": null,
   "id": "4c8cd150",
   "metadata": {},
   "outputs": [],
   "source": [
    "biomarker = biomarkers[2]\n",
    "sns.displot(data=zdata,x=biomarker,hue='Group',kind='kde')\n",
    "plt.title(biomarker)\n",
    "plt.axvline(0,ls='--',c='black') # the 0 line *should* be the mean of the control distribution\n",
    "plt.show()"
   ]
  },
  {
   "cell_type": "code",
   "execution_count": null,
   "id": "9c09edcd",
   "metadata": {},
   "outputs": [],
   "source": [
    "biomarker = biomarkers[3]\n",
    "sns.displot(data=zdata,x=biomarker,hue='Group',kind='kde')\n",
    "plt.title(biomarker)\n",
    "plt.axvline(0,ls='--',c='black') # the 0 line *should* be the mean of the control distribution\n",
    "plt.show()"
   ]
  },
  {
   "cell_type": "code",
   "execution_count": null,
   "id": "13cd3a25",
   "metadata": {},
   "outputs": [],
   "source": [
    "biomarker = biomarkers[4]\n",
    "sns.displot(data=zdata,x=biomarker,hue='Group',kind='kde')\n",
    "plt.title(biomarker)\n",
    "plt.axvline(0,ls='--',c='black') # the 0 line *should* be the mean of the control distribution\n",
    "plt.show()"
   ]
  },
  {
   "cell_type": "code",
   "execution_count": null,
   "id": "687bcf8c",
   "metadata": {},
   "outputs": [],
   "source": [
    "biomarker = biomarkers[5]\n",
    "sns.displot(data=zdata,x=biomarker,hue='Group',kind='kde')\n",
    "plt.title(biomarker)\n",
    "plt.axvline(0,ls='--',c='black') # the 0 line *should* be the mean of the control distribution\n",
    "plt.show()"
   ]
  },
  {
   "cell_type": "code",
   "execution_count": null,
   "id": "8dd6ef3c",
   "metadata": {},
   "outputs": [],
   "source": [
    "biomarker = biomarkers[6]\n",
    "sns.displot(data=zdata,x=biomarker,hue='Group',kind='kde')\n",
    "plt.title(biomarker)\n",
    "plt.axvline(0,ls='--',c='black') # the 0 line *should* be the mean of the control distribution\n",
    "plt.show()"
   ]
  },
  {
   "cell_type": "code",
   "execution_count": null,
   "id": "62e0b15e",
   "metadata": {},
   "outputs": [],
   "source": [
    "biomarker = biomarkers[7]\n",
    "sns.displot(data=zdata,x=biomarker,hue='Group',kind='kde')\n",
    "plt.title(biomarker)\n",
    "plt.axvline(0,ls='--',c='black') # the 0 line *should* be the mean of the control distribution\n",
    "plt.show()"
   ]
  },
  {
   "cell_type": "code",
   "execution_count": 47,
   "id": "d309a9b8",
   "metadata": {},
   "outputs": [],
   "source": [
    "N = len(biomarkers)         # number of biomarkers\n",
    "\n",
    "SuStaInLabels = biomarkers\n",
    "Z_vals = np.array([[1,2,3]]*N)     # Z-scores for each biomarker\n",
    "Z_max  = np.array([5]*N)           # maximum z-score"
   ]
  },
  {
   "cell_type": "code",
   "execution_count": null,
   "id": "4c8ec50c",
   "metadata": {},
   "outputs": [],
   "source": [
    "print(Z_vals)\n",
    "print(Z_vals.shape)"
   ]
  },
  {
   "cell_type": "code",
   "execution_count": 49,
   "id": "d3c1c67b",
   "metadata": {},
   "outputs": [],
   "source": [
    "# Input the settings for z-score SuStaIn\n",
    "\n",
    "N_startpoints = 25\n",
    "N_S_max = 2\n",
    "N_iterations_MCMC = int(1e6)\n",
    "\n",
    "output_folder = os.path.join(os.getcwd(), 'hippocampal_output')\n",
    "dataset_name = 'hippocampal_output'\n",
    "\n",
    "# Initiate the SuStaIn object\n",
    "sustain_input = pySuStaIn.ZscoreSustain(\n",
    "                              zdata[biomarkers].values,\n",
    "                              Z_vals,\n",
    "                              Z_max,\n",
    "                              SuStaInLabels,\n",
    "                              N_startpoints,\n",
    "                              N_S_max, \n",
    "                              N_iterations_MCMC, \n",
    "                              output_folder, \n",
    "                              dataset_name, \n",
    "                              True)"
   ]
  },
  {
   "cell_type": "code",
   "execution_count": 50,
   "id": "42a422db",
   "metadata": {},
   "outputs": [],
   "source": [
    "# make the output directory if it's not already created\n",
    "if not os.path.isdir(output_folder):\n",
    "    os.mkdir(output_folder)"
   ]
  },
  {
   "cell_type": "code",
   "execution_count": null,
   "id": "6e95b104",
   "metadata": {
    "scrolled": true
   },
   "outputs": [],
   "source": [
    "# runs the sustain algorithm with the inputs set in sustain_input above\n",
    "samples_sequence,   \\\n",
    "samples_f,          \\\n",
    "ml_subtype,         \\\n",
    "prob_ml_subtype,    \\\n",
    "ml_stage,           \\\n",
    "prob_ml_stage,      \\\n",
    "prob_subtype_stage  = sustain_input.run_sustain_algorithm()"
   ]
  },
  {
   "cell_type": "code",
   "execution_count": null,
   "id": "6c9855f6",
   "metadata": {},
   "outputs": [],
   "source": [
    "# for each subtype model\n",
    "for s in range(N_S_max):\n",
    "    # load pickle file (SuStaIn output) and get the sample log likelihood values\n",
    "    pickle_filename_s = output_folder + '/pickle_files/' + dataset_name + '_subtype' + str(s) + '.pickle'\n",
    "    pk = pandas.read_pickle(pickle_filename_s)\n",
    "    samples_likelihood = pk[\"samples_likelihood\"]\n",
    "    \n",
    "    # plot the values as a line plot\n",
    "    plt.figure(0)\n",
    "    plt.plot(range(N_iterations_MCMC), samples_likelihood, label=\"subtype\" + str(s))\n",
    "    plt.legend(loc='upper right')\n",
    "    plt.xlabel('MCMC samples')\n",
    "    plt.ylabel('Log likelihood')\n",
    "    plt.title('MCMC trace')\n",
    "    \n",
    "    # plot the values as a histogramp plot\n",
    "    plt.figure(1)\n",
    "    plt.hist(samples_likelihood, label=\"subtype\" + str(s))\n",
    "    plt.legend(loc='upper right')\n",
    "    plt.xlabel('Log likelihood')  \n",
    "    plt.ylabel('Number of samples')  \n",
    "    plt.title('Histograms of model likelihood')"
   ]
  },
  {
   "cell_type": "code",
   "execution_count": 54,
   "id": "ebf2c24e",
   "metadata": {},
   "outputs": [
    {
     "data": {
      "image/png": "[encoded data removed]",
      "text/plain": [
       "<Figure size 432x288 with 2 Axes>"
      ]
     },
     "metadata": {
      "needs_background": "light"
     },
     "output_type": "display_data"
    }
   ],
   "source": [
    "# Let's plot positional variance diagrams to interpret the subtype progressions\n",
    "\n",
    "s = 1 # 1 split = 2 subtypes\n",
    "M = len(zdata) \n",
    "\n",
    "# get the sample sequences and f\n",
    "pickle_filename_s = output_folder + '/pickle_files/' + dataset_name + '_subtype' + str(s) + '.pickle'\n",
    "pk = pandas.read_pickle(pickle_filename_s)\n",
    "samples_sequence = pk[\"samples_sequence\"]\n",
    "samples_f = pk[\"samples_f\"]\n",
    "\n",
    "# use this information to plot the positional variance diagrams\n",
    "tmp=pySuStaIn.ZscoreSustain._plot_sustain_model(sustain_input,samples_sequence,samples_f,M,subtype_order=(0,1))"
   ]
  },
  {
   "cell_type": "code",
   "execution_count": null,
   "id": "b1dae61f",
   "metadata": {},
   "outputs": [],
   "source": [
    "# let's take a look at all of the things that exist in SuStaIn's output (pickle) file\n",
    "pk.keys()"
   ]
  },
  {
   "cell_type": "code",
   "execution_count": null,
   "id": "795d6bc0",
   "metadata": {},
   "outputs": [],
   "source": [
    "# The SuStaIn output has everything we need. We'll use it to populate our dataframe.\n",
    "\n",
    "s = 1\n",
    "pickle_filename_s = output_folder + '/pickle_files/' + dataset_name + '_subtype' + str(s) + '.pickle'\n",
    "pk = pandas.read_pickle(pickle_filename_s)\n",
    "\n",
    "for variable in ['ml_subtype', # the assigned subtype\n",
    "                 'prob_ml_subtype', # the probability of the assigned subtype\n",
    "                 'ml_stage', # the assigned stage \n",
    "                 'prob_ml_stage',]: # the probability of the assigned stage\n",
    "    \n",
    "    # add SuStaIn output to dataframe\n",
    "    zdata.loc[:,variable] = pk[variable] \n",
    "\n",
    "# let's also add the probability for each subject of being each subtype\n",
    "for i in range(s):\n",
    "    zdata.loc[:,'prob_S%s'%i] = pk['prob_subtype'][:,i]\n",
    "zdata.head()"
   ]
  },
  {
   "cell_type": "code",
   "execution_count": 57,
   "id": "7505240c",
   "metadata": {},
   "outputs": [],
   "source": [
    "# IMPORTANT!!! The last thing we need to do is to set all \"Stage 0\" subtypes to their own subtype\n",
    "# We'll set current subtype (0 and 1) to 1 and 0, and we'll call \"Stage 0\" individuals subtype 0.\n",
    "\n",
    "# make current subtypes (0 and 1) 1 and 2 instead\n",
    "zdata.loc[:,'ml_subtype'] = zdata.ml_subtype.values + 1\n",
    "\n",
    "# convert \"Stage 0\" subjects to subtype 0\n",
    "zdata.loc[zdata.ml_stage==0,'ml_subtype'] = 0"
   ]
  },
  {
   "cell_type": "code",
   "execution_count": null,
   "id": "cc264a43",
   "metadata": {},
   "outputs": [],
   "source": [
    "zdata.ml_subtype.value_counts()"
   ]
  },
  {
   "cell_type": "code",
   "execution_count": 59,
   "id": "c0740023",
   "metadata": {},
   "outputs": [
    {
     "data": {
      "text/plain": [
       "<seaborn.axisgrid.FacetGrid at 0x7fb176263220>"
      ]
     },
     "execution_count": 59,
     "metadata": {},
     "output_type": "execute_result"
    },
    {
     "data": {
      "image/png": "[encoded data removed]",
      "text/plain": [
       "<Figure size 1122.38x360 with 3 Axes>"
      ]
     },
     "metadata": {
      "needs_background": "light"
     },
     "output_type": "display_data"
    }
   ],
   "source": [
    "sns.displot(x='ml_stage',hue='Group',data=zdata,col='ml_subtype')"
   ]
  },
  {
   "cell_type": "code",
   "execution_count": null,
   "id": "3d579cf4",
   "metadata": {
    "scrolled": true
   },
   "outputs": [],
   "source": [
    "sns.pointplot(x='ml_stage',y='prob_ml_subtype', # input variables\n",
    "              hue='ml_subtype',                 # \"grouping\" variable\n",
    "            data=zdata[zdata.ml_subtype>0]) # only plot for Subtypes 1 and 2 (not 0)\n",
    "plt.ylim(0,1) \n",
    "plt.axhline(0.5,ls='--',color='k') # plot a line representing change (0.5 in the case of 2 subtypes)"
   ]
  },
  {
   "cell_type": "code",
   "execution_count": 61,
   "id": "7a6ec602",
   "metadata": {},
   "outputs": [],
   "source": [
    "zdata.to_excel('/Users/jana/Documents/2023-hippocampal-volume-connectivity/hippocampal_output/zdata_hippocampal_volume_connectivity.xlsx')"
   ]
  },
  {
   "cell_type": "code",
   "execution_count": 62,
   "id": "659cad9b",
   "metadata": {},
   "outputs": [],
   "source": [
    "#CROSS-VALIDATION \n",
    "N_folds = 10\n",
    "\n",
    "# generate stratified cross-validation training and test set splits\n",
    "labels = zdata.Group.values\n",
    "cv = sklearn.model_selection.StratifiedKFold(n_splits=N_folds, shuffle=True)\n",
    "cv_it = cv.split(zdata, labels)\n",
    "\n",
    "test_idxs = []\n",
    "for train, test in cv_it:\n",
    "    test_idxs.append(test)\n",
    "test_idxs = np.array(test_idxs,dtype='object')"
   ]
  },
  {
   "cell_type": "code",
   "execution_count": null,
   "id": "bd3b01bf",
   "metadata": {
    "scrolled": true
   },
   "outputs": [],
   "source": [
    "# perform cross-validation and output the cross-validation information criterion and\n",
    "# log-likelihood on the test set for each subtypes model and fold combination\n",
    "CVIC, loglike_matrix     = sustain_input.cross_validate_sustain_model(test_idxs)"
   ]
  },
  {
   "cell_type": "code",
   "execution_count": 64,
   "id": "8d92e1c5",
   "metadata": {
    "scrolled": true
   },
   "outputs": [
    {
     "name": "stdout",
     "output_type": "stream",
     "text": [
      "CVIC for each subtype model: [7696.05154657 7616.02079373]\n",
      "Average test set log-likelihood for each subtype model: [-388.30141598 -383.75045613]\n"
     ]
    },
    {
     "data": {
      "text/plain": [
       "Text(0.5, 1.0, 'Test set log-likelihood across folds')"
      ]
     },
     "execution_count": 64,
     "metadata": {},
     "output_type": "execute_result"
    },
    {
     "data": {
      "image/png": "[encoded data removed]",
      "text/plain": [
       "<Figure size 432x288 with 1 Axes>"
      ]
     },
     "metadata": {
      "needs_background": "light"
     },
     "output_type": "display_data"
    },
    {
     "data": {
      "image/png": "[encoded data removed]",
      "text/plain": [
       "<Figure size 432x288 with 1 Axes>"
      ]
     },
     "metadata": {
      "needs_background": "light"
     },
     "output_type": "display_data"
    }
   ],
   "source": [
    "# go through each subtypes model and plot the log-likelihood on the test set and the CVIC\n",
    "print(\"CVIC for each subtype model: \" + str(CVIC))\n",
    "print(\"Average test set log-likelihood for each subtype model: \" + str(np.mean(loglike_matrix, 0)))\n",
    "\n",
    "plt.figure(0)    \n",
    "plt.plot(np.arange(N_S_max,dtype=int),CVIC)\n",
    "plt.xticks(np.arange(N_S_max,dtype=int))\n",
    "plt.ylabel('CVIC')  \n",
    "plt.xlabel('Subtypes model') \n",
    "plt.title('CVIC')\n",
    "\n",
    "plt.figure(1)\n",
    "df_loglike = pandas.DataFrame(data = loglike_matrix, columns = [\"s_\" + str(i) for i in range(sustain_input.N_S_max)])\n",
    "df_loglike.boxplot(grid=False)\n",
    "plt.ylabel('Log likelihood')  \n",
    "plt.xlabel('Subtypes model') \n",
    "plt.title('Test set log-likelihood across folds')"
   ]
  },
  {
   "cell_type": "code",
   "execution_count": 65,
   "id": "9e077256",
   "metadata": {
    "scrolled": false
   },
   "outputs": [
    {
     "name": "stderr",
     "output_type": "stream",
     "text": [
      "/Users/jana/opt/anaconda3/lib/python3.9/site-packages/pySuStaIn/ZscoreSustain.py:505: UserWarning: Both labels and an order have been given. The labels will be reordered according to the given order!\n",
      "  warnings.warn(\n",
      "/Users/jana/opt/anaconda3/lib/python3.9/site-packages/pySuStaIn/AbstractSustain.py:522: UserWarning: Matplotlib is currently using module://matplotlib_inline.backend_inline, which is a non-GUI backend, so cannot show the figure.\n",
      "  fig.show()\n"
     ]
    },
    {
     "data": {
      "image/png": "[encoded data removed]",
      "text/plain": [
       "<Figure size 432x288 with 1 Axes>"
      ]
     },
     "metadata": {
      "needs_background": "light"
     },
     "output_type": "display_data"
    },
    {
     "data": {
      "image/png": "[encoded data removed]",
      "text/plain": [
       "<Figure size 432x288 with 2 Axes>"
      ]
     },
     "metadata": {
      "needs_background": "light"
     },
     "output_type": "display_data"
    }
   ],
   "source": [
    "#this part estimates cross-validated positional variance diagrams\n",
    "for i in range(N_S_max):\n",
    "    sustain_input.combine_cross_validated_sequences(i+1, N_folds)"
   ]
  },
  {
   "cell_type": "code",
   "execution_count": 66,
   "id": "cb9f6b38",
   "metadata": {
    "scrolled": true
   },
   "outputs": [
    {
     "data": {
      "image/png": "[encoded data removed]",
      "text/plain": [
       "<Figure size 432x288 with 2 Axes>"
      ]
     },
     "metadata": {
      "needs_background": "light"
     },
     "output_type": "display_data"
    },
    {
     "data": {
      "image/png": "[encoded data removed]",
      "text/plain": [
       "<Figure size 432x288 with 2 Axes>"
      ]
     },
     "metadata": {
      "needs_background": "light"
     },
     "output_type": "display_data"
    }
   ],
   "source": [
    "N_S_selected = 2\n",
    "\n",
    "pySuStaIn.ZscoreSustain._plot_sustain_model(sustain_input,samples_sequence,samples_f,M,subtype_order=(0,1))\n",
    "_ = plt.suptitle('SuStaIn output')\n",
    "\n",
    "sustain_input.combine_cross_validated_sequences(N_S_selected, N_folds)\n",
    "_ = plt.suptitle('Cross-validated SuStaIn output')"
   ]
  },
  {
   "cell_type": "code",
   "execution_count": null,
   "id": "afccad96",
   "metadata": {},
   "outputs": [],
   "source": []
  }
 ],
 "metadata": {
  "kernelspec": {
   "display_name": "Python 3 (ipykernel)",
   "language": "python",
   "name": "python3"
  },
  "language_info": {
   "codemirror_mode": {
    "name": "ipython",
    "version": 3
   },
   "file_extension": ".py",
   "mimetype": "text/x-python",
   "name": "python",
   "nbconvert_exporter": "python",
   "pygments_lexer": "ipython3",
   "version": "3.9.7"
  }
 },
 "nbformat": 4,
 "nbformat_minor": 5
}
